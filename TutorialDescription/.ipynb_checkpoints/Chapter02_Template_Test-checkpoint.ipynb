{
 "cells": [
  {
   "cell_type": "markdown",
   "metadata": {},
   "source": [
    "1. Open windows power shell in administrative mode.<br/>\n",
    "2. Run \n",
    " <br/><b>`pwd`</b>\n",
    " <br/>Return: D:\\GoogleDrive\\TUTORIALS\\DjangoTutorial\\Chapter02_Template_Test\n",
    "3. Now we will install django in this directory.\n",
    " <br/><b>`pipenv install django`</b>"
   ]
  },
  {
   "cell_type": "code",
   "execution_count": null,
   "metadata": {},
   "outputs": [],
   "source": [
    "<br/><b>``</b>"
   ]
  }
 ],
 "metadata": {
  "kernelspec": {
   "display_name": "Python 3",
   "language": "python",
   "name": "python3"
  },
  "language_info": {
   "codemirror_mode": {
    "name": "ipython",
    "version": 3
   },
   "file_extension": ".py",
   "mimetype": "text/x-python",
   "name": "python",
   "nbconvert_exporter": "python",
   "pygments_lexer": "ipython3",
   "version": "3.7.0"
  }
 },
 "nbformat": 4,
 "nbformat_minor": 2
}
