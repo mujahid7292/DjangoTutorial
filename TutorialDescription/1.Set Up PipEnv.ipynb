{
 "cells": [
  {
   "cell_type": "markdown",
   "metadata": {},
   "source": [
    "1. Run Windows Power Shell as Administrator.\n",
    "2. Run the following command in Power Shell:\n",
    "    <br/><b>`pip install pipenv`</b>\n",
    "3. Execute the following command and change MAHMUD to your user name ( ONE TIME ):\n",
    "    <br/><b>`set PATH=%PATH%;set PATH=%PATH%;'c:\\users\\HP\\appdata\\local\\programs\\python\\python36-32\\Scripts'`</b>\n",
    "4. Install any python package:\n",
    "    <br/><b>`pipenv install bs4`</b>    \n",
    "Return:\n",
    "Successfully created virtual environment!\n",
    "Virtualenv location: C:\\Users\\HP\\.virtualenvs\\DjangoTutorial-Nb9LfsJI\n",
    "5. To activate pipenv in windows terminal run:\n",
    "    <br/><b>`pipenv shell`</b>"
   ]
  },
  {
   "cell_type": "code",
   "execution_count": null,
   "metadata": {},
   "outputs": [],
   "source": [
    "<br/><b>``</b>"
   ]
  }
 ],
 "metadata": {
  "kernelspec": {
   "display_name": "Python 3",
   "language": "python",
   "name": "python3"
  },
  "language_info": {
   "codemirror_mode": {
    "name": "ipython",
    "version": 3
   },
   "file_extension": ".py",
   "mimetype": "text/x-python",
   "name": "python",
   "nbconvert_exporter": "python",
   "pygments_lexer": "ipython3",
   "version": "3.7.0"
  }
 },
 "nbformat": 4,
 "nbformat_minor": 2
}
